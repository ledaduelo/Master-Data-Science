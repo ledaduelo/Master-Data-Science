{
 "cells": [
  {
   "cell_type": "markdown",
   "metadata": {},
   "source": [
    "TU primer web services chispas\n",
    "Fifth (Bonus) exercise: write a Web Service\n",
    "\n",
    "Wrap the output of the second exercise in a web service that returns the data in JSON format (instead of printing to the standard output). The web service should accept a parameter n>0. For the top 10 airports, n is 10. For the X top airports, n is X.\n",
    "\n",
    "https://sandbox.amadeus.com/\n",
    "\n",
    "Paso 0: importar falsk"
   ]
  },
  {
   "cell_type": "code",
   "execution_count": 1,
   "metadata": {
    "collapsed": true
   },
   "outputs": [],
   "source": [
    "from flask import Flask"
   ]
  },
  {
   "cell_type": "code",
   "execution_count": 16,
   "metadata": {
    "collapsed": true
   },
   "outputs": [],
   "source": [
    "import pandas as pd\n",
    "\n",
    "def getTopAirports(n):\n",
    "    b = pd.read_csv('bookings.csv.bz2',\n",
    "                    sep='^',\n",
    "                    nrows=1e5,\n",
    "                    usecols= ['arr_port','pax']\n",
    "                   )\n",
    "    g = b.groupby('arr_port')\n",
    "    s = g.pax.sum()\n",
    "    d = s.reset_index()\n",
    "    return d.sort('pax',ascending=False).head(n)\n",
    "    \n",
    "    "
   ]
  },
  {
   "cell_type": "code",
   "execution_count": 4,
   "metadata": {
    "collapsed": false
   },
   "outputs": [],
   "source": [
    "#pimero declaro app para que no se queje\n",
    "\n",
    "app = Flask(\"Mi primer web service\")"
   ]
  },
  {
   "cell_type": "code",
   "execution_count": 18,
   "metadata": {
    "collapsed": true
   },
   "outputs": [],
   "source": [
    "del app \n",
    "\n",
    "app = Flask(\"Mi primer web service\")"
   ]
  },
  {
   "cell_type": "code",
   "execution_count": 6,
   "metadata": {
    "collapsed": true
   },
   "outputs": [],
   "source": [
    "#voy a hacer la función hello --> get_hello (get_elnombredelafunción)\n",
    "\n",
    "@app.route('/hello')\n",
    "def get_hello():\n",
    "    return \"hola desde flack\""
   ]
  },
  {
   "cell_type": "code",
   "execution_count": 8,
   "metadata": {
    "collapsed": false
   },
   "outputs": [],
   "source": [
    "#se va a estar ejecutando siempre --> si para el servidor no responde a las peticiones.\n",
    "#lo ves en http://localhost:5000/hello (el puerto de flask es en puerto 50000)\n",
    "\n",
    "app.run()"
   ]
  },
  {
   "cell_type": "code",
   "execution_count": 19,
   "metadata": {
    "collapsed": false
   },
   "outputs": [],
   "source": [
    "\n",
    "@app.route('/top/<int:x>')\n",
    "def get_top(x):\n",
    "    df = getTopAirports(x)\n",
    "    j = df.to_json()\n",
    "    return j"
   ]
  },
  {
   "cell_type": "code",
   "execution_count": null,
   "metadata": {
    "collapsed": true
   },
   "outputs": [],
   "source": [
    "app.run()"
   ]
  },
  {
   "cell_type": "code",
   "execution_count": null,
   "metadata": {
    "collapsed": true
   },
   "outputs": [],
   "source": []
  }
 ],
 "metadata": {
  "kernelspec": {
   "display_name": "Python 2",
   "language": "python",
   "name": "python2"
  },
  "language_info": {
   "codemirror_mode": {
    "name": "ipython",
    "version": 2
   },
   "file_extension": ".py",
   "mimetype": "text/x-python",
   "name": "python",
   "nbconvert_exporter": "python",
   "pygments_lexer": "ipython2",
   "version": "2.7.10"
  }
 },
 "nbformat": 4,
 "nbformat_minor": 0
}
